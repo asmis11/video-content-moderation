{
  "nbformat": 4,
  "nbformat_minor": 0,
  "metadata": {
    "colab": {
      "provenance": [],
      "authorship_tag": "ABX9TyMY/i5tE09TZ1J0v63dQlhz",
      "include_colab_link": true
    },
    "kernelspec": {
      "name": "python3",
      "display_name": "Python 3"
    },
    "language_info": {
      "name": "python"
    }
  },
  "cells": [
    {
      "cell_type": "markdown",
      "metadata": {
        "id": "view-in-github",
        "colab_type": "text"
      },
      "source": [
        "<a href=\"https://colab.research.google.com/github/asmis11/video-content-moderation/blob/main/Phases.ipynb\" target=\"_parent\"><img src=\"https://colab.research.google.com/assets/colab-badge.svg\" alt=\"Open In Colab\"/></a>"
      ]
    },
    {
      "cell_type": "code",
      "execution_count": 1,
      "metadata": {
        "colab": {
          "base_uri": "https://localhost:8080/",
          "height": 73
        },
        "id": "TSQ2GJQ1g3Ly",
        "outputId": "02600299-9bab-4eef-e87e-7ed3e302a8df"
      },
      "outputs": [
        {
          "output_type": "display_data",
          "data": {
            "text/plain": [
              "<IPython.core.display.HTML object>"
            ],
            "text/html": [
              "\n",
              "     <input type=\"file\" id=\"files-5ad58fa1-9163-4fee-94a9-c19ab1cd2baa\" name=\"files[]\" multiple disabled\n",
              "        style=\"border:none\" />\n",
              "     <output id=\"result-5ad58fa1-9163-4fee-94a9-c19ab1cd2baa\">\n",
              "      Upload widget is only available when the cell has been executed in the\n",
              "      current browser session. Please rerun this cell to enable.\n",
              "      </output>\n",
              "      <script>// Copyright 2017 Google LLC\n",
              "//\n",
              "// Licensed under the Apache License, Version 2.0 (the \"License\");\n",
              "// you may not use this file except in compliance with the License.\n",
              "// You may obtain a copy of the License at\n",
              "//\n",
              "//      http://www.apache.org/licenses/LICENSE-2.0\n",
              "//\n",
              "// Unless required by applicable law or agreed to in writing, software\n",
              "// distributed under the License is distributed on an \"AS IS\" BASIS,\n",
              "// WITHOUT WARRANTIES OR CONDITIONS OF ANY KIND, either express or implied.\n",
              "// See the License for the specific language governing permissions and\n",
              "// limitations under the License.\n",
              "\n",
              "/**\n",
              " * @fileoverview Helpers for google.colab Python module.\n",
              " */\n",
              "(function(scope) {\n",
              "function span(text, styleAttributes = {}) {\n",
              "  const element = document.createElement('span');\n",
              "  element.textContent = text;\n",
              "  for (const key of Object.keys(styleAttributes)) {\n",
              "    element.style[key] = styleAttributes[key];\n",
              "  }\n",
              "  return element;\n",
              "}\n",
              "\n",
              "// Max number of bytes which will be uploaded at a time.\n",
              "const MAX_PAYLOAD_SIZE = 100 * 1024;\n",
              "\n",
              "function _uploadFiles(inputId, outputId) {\n",
              "  const steps = uploadFilesStep(inputId, outputId);\n",
              "  const outputElement = document.getElementById(outputId);\n",
              "  // Cache steps on the outputElement to make it available for the next call\n",
              "  // to uploadFilesContinue from Python.\n",
              "  outputElement.steps = steps;\n",
              "\n",
              "  return _uploadFilesContinue(outputId);\n",
              "}\n",
              "\n",
              "// This is roughly an async generator (not supported in the browser yet),\n",
              "// where there are multiple asynchronous steps and the Python side is going\n",
              "// to poll for completion of each step.\n",
              "// This uses a Promise to block the python side on completion of each step,\n",
              "// then passes the result of the previous step as the input to the next step.\n",
              "function _uploadFilesContinue(outputId) {\n",
              "  const outputElement = document.getElementById(outputId);\n",
              "  const steps = outputElement.steps;\n",
              "\n",
              "  const next = steps.next(outputElement.lastPromiseValue);\n",
              "  return Promise.resolve(next.value.promise).then((value) => {\n",
              "    // Cache the last promise value to make it available to the next\n",
              "    // step of the generator.\n",
              "    outputElement.lastPromiseValue = value;\n",
              "    return next.value.response;\n",
              "  });\n",
              "}\n",
              "\n",
              "/**\n",
              " * Generator function which is called between each async step of the upload\n",
              " * process.\n",
              " * @param {string} inputId Element ID of the input file picker element.\n",
              " * @param {string} outputId Element ID of the output display.\n",
              " * @return {!Iterable<!Object>} Iterable of next steps.\n",
              " */\n",
              "function* uploadFilesStep(inputId, outputId) {\n",
              "  const inputElement = document.getElementById(inputId);\n",
              "  inputElement.disabled = false;\n",
              "\n",
              "  const outputElement = document.getElementById(outputId);\n",
              "  outputElement.innerHTML = '';\n",
              "\n",
              "  const pickedPromise = new Promise((resolve) => {\n",
              "    inputElement.addEventListener('change', (e) => {\n",
              "      resolve(e.target.files);\n",
              "    });\n",
              "  });\n",
              "\n",
              "  const cancel = document.createElement('button');\n",
              "  inputElement.parentElement.appendChild(cancel);\n",
              "  cancel.textContent = 'Cancel upload';\n",
              "  const cancelPromise = new Promise((resolve) => {\n",
              "    cancel.onclick = () => {\n",
              "      resolve(null);\n",
              "    };\n",
              "  });\n",
              "\n",
              "  // Wait for the user to pick the files.\n",
              "  const files = yield {\n",
              "    promise: Promise.race([pickedPromise, cancelPromise]),\n",
              "    response: {\n",
              "      action: 'starting',\n",
              "    }\n",
              "  };\n",
              "\n",
              "  cancel.remove();\n",
              "\n",
              "  // Disable the input element since further picks are not allowed.\n",
              "  inputElement.disabled = true;\n",
              "\n",
              "  if (!files) {\n",
              "    return {\n",
              "      response: {\n",
              "        action: 'complete',\n",
              "      }\n",
              "    };\n",
              "  }\n",
              "\n",
              "  for (const file of files) {\n",
              "    const li = document.createElement('li');\n",
              "    li.append(span(file.name, {fontWeight: 'bold'}));\n",
              "    li.append(span(\n",
              "        `(${file.type || 'n/a'}) - ${file.size} bytes, ` +\n",
              "        `last modified: ${\n",
              "            file.lastModifiedDate ? file.lastModifiedDate.toLocaleDateString() :\n",
              "                                    'n/a'} - `));\n",
              "    const percent = span('0% done');\n",
              "    li.appendChild(percent);\n",
              "\n",
              "    outputElement.appendChild(li);\n",
              "\n",
              "    const fileDataPromise = new Promise((resolve) => {\n",
              "      const reader = new FileReader();\n",
              "      reader.onload = (e) => {\n",
              "        resolve(e.target.result);\n",
              "      };\n",
              "      reader.readAsArrayBuffer(file);\n",
              "    });\n",
              "    // Wait for the data to be ready.\n",
              "    let fileData = yield {\n",
              "      promise: fileDataPromise,\n",
              "      response: {\n",
              "        action: 'continue',\n",
              "      }\n",
              "    };\n",
              "\n",
              "    // Use a chunked sending to avoid message size limits. See b/62115660.\n",
              "    let position = 0;\n",
              "    do {\n",
              "      const length = Math.min(fileData.byteLength - position, MAX_PAYLOAD_SIZE);\n",
              "      const chunk = new Uint8Array(fileData, position, length);\n",
              "      position += length;\n",
              "\n",
              "      const base64 = btoa(String.fromCharCode.apply(null, chunk));\n",
              "      yield {\n",
              "        response: {\n",
              "          action: 'append',\n",
              "          file: file.name,\n",
              "          data: base64,\n",
              "        },\n",
              "      };\n",
              "\n",
              "      let percentDone = fileData.byteLength === 0 ?\n",
              "          100 :\n",
              "          Math.round((position / fileData.byteLength) * 100);\n",
              "      percent.textContent = `${percentDone}% done`;\n",
              "\n",
              "    } while (position < fileData.byteLength);\n",
              "  }\n",
              "\n",
              "  // All done.\n",
              "  yield {\n",
              "    response: {\n",
              "      action: 'complete',\n",
              "    }\n",
              "  };\n",
              "}\n",
              "\n",
              "scope.google = scope.google || {};\n",
              "scope.google.colab = scope.google.colab || {};\n",
              "scope.google.colab._files = {\n",
              "  _uploadFiles,\n",
              "  _uploadFilesContinue,\n",
              "};\n",
              "})(self);\n",
              "</script> "
            ]
          },
          "metadata": {}
        },
        {
          "output_type": "stream",
          "name": "stdout",
          "text": [
            "Saving tikharm_dataset.zip to tikharm_dataset.zip\n"
          ]
        }
      ],
      "source": [
        "from google.colab import files\n",
        "uploaded = files.upload()"
      ]
    },
    {
      "cell_type": "code",
      "source": [
        "import zipfile\n",
        "import os\n",
        "\n",
        "base_path = \"/content/tikharm_dataset.zip\"\n",
        "\n",
        "with zipfile.ZipFile(base_path, 'r') as zip_ref:\n",
        "    zip_ref.extractall(\"/content/tikharm_dataset\")\n",
        "\n",
        "extracted_dir = \"/content/tikharm_dataset\"\n",
        "print(os.listdir(extracted_dir))"
      ],
      "metadata": {
        "colab": {
          "base_uri": "https://localhost:8080/"
        },
        "id": "ST9uEoePms_F",
        "outputId": "840e22e7-6f01-4bab-8a5e-cfcf6cbad6e6"
      },
      "execution_count": 3,
      "outputs": [
        {
          "output_type": "stream",
          "name": "stdout",
          "text": [
            "['tikharm_dataset']\n"
          ]
        }
      ]
    },
    {
      "cell_type": "code",
      "source": [
        "!pip install opencv-python-headless --quiet\n",
        "\n",
        "import os\n",
        "import cv2\n",
        "import numpy as np\n",
        "import pandas as pd\n",
        "from glob import glob\n",
        "from tqdm import tqdm\n",
        "from tensorflow.keras.applications import MobileNetV2\n",
        "from tensorflow.keras.applications.mobilenet_v2 import preprocess_input\n",
        "from tensorflow.keras.preprocessing.image import img_to_array\n",
        "from tensorflow.keras.models import Model\n",
        "from tensorflow.keras.layers import Dense, GlobalAveragePooling2D\n",
        "from tensorflow.keras.optimizers import Adam\n",
        "from sklearn.model_selection import train_test_split"
      ],
      "metadata": {
        "id": "gb3eyGeliq5v"
      },
      "execution_count": 4,
      "outputs": []
    },
    {
      "cell_type": "markdown",
      "source": [
        "## **Phase 1** – Frame-Based Classification with MobileNetV2"
      ],
      "metadata": {
        "id": "0JyadAkg0Nfd"
      }
    },
    {
      "cell_type": "code",
      "source": [
        "def extract_frames_from_video(video_path, output_dir, fps=1):\n",
        "    os.makedirs(output_dir, exist_ok=True)\n",
        "    cap = cv2.VideoCapture(video_path)\n",
        "    frame_rate = int(cap.get(cv2.CAP_PROP_FPS))\n",
        "    count, saved = 0, 0\n",
        "    while cap.isOpened():\n",
        "        ret, frame = cap.read()\n",
        "        if not ret: break\n",
        "        if frame_rate > 0 and count % (frame_rate // fps) == 0:\n",
        "            cv2.imwrite(os.path.join(output_dir, f\"{saved}.jpg\"), frame)\n",
        "            saved += 1\n",
        "        count += 1\n",
        "    cap.release()"
      ],
      "metadata": {
        "id": "dPruQjc3l3Uf"
      },
      "execution_count": 5,
      "outputs": []
    },
    {
      "source": [
        "base_path = \"/content/tikharm_dataset/tikharm_dataset/train\"\n",
        "labels_map = {\"safe\": 0, \"adult\": 1, \"harmful\": 2, \"suicide\": 3}\n",
        "frame_dataset_dir = \"phase1_frames\"\n",
        "\n",
        "X, y = [], []\n",
        "\n",
        "for label_name, label in labels_map.items():\n",
        "    video_paths = glob(os.path.join(base_path, label_name, \"*.mp4\"))\n",
        "    print(f\"Found {len(video_paths)} videos for label: {label_name}\") # Print the number of video paths found\n",
        "    for video_path in tqdm(video_paths[:5]):\n",
        "        video_id = os.path.splitext(os.path.basename(video_path))[0]\n",
        "        out_dir = os.path.join(frame_dataset_dir, video_id)\n",
        "        extract_frames_from_video(video_path, out_dir, fps=1)\n",
        "        print(f\"Extracted frames to: {out_dir}\")  # Print the output directory\n",
        "\n",
        "        for fname in os.listdir(out_dir):\n",
        "            img = cv2.imread(os.path.join(out_dir, fname))\n",
        "            if img is not None:\n",
        "                img = cv2.resize(img, (224, 224))\n",
        "                img = preprocess_input(img_to_array(img))\n",
        "                X.append(img)\n",
        "                y.append(label)\n",
        "\n",
        "X = np.array(X)\n",
        "y = np.array(y)\n",
        "X_train, X_test, y_train, y_test = train_test_split(X, y, test_size=0.2)"
      ],
      "cell_type": "code",
      "metadata": {
        "colab": {
          "base_uri": "https://localhost:8080/"
        },
        "id": "7DhKXjhkm_-U",
        "outputId": "38f66212-e7a4-436c-f77f-189261473102"
      },
      "execution_count": 6,
      "outputs": [
        {
          "output_type": "stream",
          "name": "stdout",
          "text": [
            "Found 11 videos for label: safe\n"
          ]
        },
        {
          "output_type": "stream",
          "name": "stderr",
          "text": [
            "\r  0%|          | 0/5 [00:00<?, ?it/s]"
          ]
        },
        {
          "output_type": "stream",
          "name": "stdout",
          "text": [
            "Extracted frames to: phase1_frames/anvattuoinho_7116224760626892075\n"
          ]
        },
        {
          "output_type": "stream",
          "name": "stderr",
          "text": [
            "\r 20%|██        | 1/5 [00:21<01:24, 21.23s/it]"
          ]
        },
        {
          "output_type": "stream",
          "name": "stdout",
          "text": [
            "Extracted frames to: phase1_frames/alinaways_7175873829930061062\n"
          ]
        },
        {
          "output_type": "stream",
          "name": "stderr",
          "text": [
            "\r 40%|████      | 2/5 [00:24<00:31, 10.62s/it]"
          ]
        },
        {
          "output_type": "stream",
          "name": "stdout",
          "text": [
            "Extracted frames to: phase1_frames/anhtun.nta_7246601851410337029\n"
          ]
        },
        {
          "output_type": "stream",
          "name": "stderr",
          "text": [
            "\r 60%|██████    | 3/5 [00:32<00:18,  9.30s/it]"
          ]
        },
        {
          "output_type": "stream",
          "name": "stdout",
          "text": [
            "Extracted frames to: phase1_frames/anhnongdancartoon_7360268444362673415\n"
          ]
        },
        {
          "output_type": "stream",
          "name": "stderr",
          "text": [
            "\r 80%|████████  | 4/5 [00:43<00:09,  9.93s/it]"
          ]
        },
        {
          "output_type": "stream",
          "name": "stdout",
          "text": [
            "Extracted frames to: phase1_frames/vid1\n"
          ]
        },
        {
          "output_type": "stream",
          "name": "stderr",
          "text": [
            "100%|██████████| 5/5 [00:57<00:00, 11.48s/it]\n"
          ]
        },
        {
          "output_type": "stream",
          "name": "stdout",
          "text": [
            "Found 10 videos for label: adult\n"
          ]
        },
        {
          "output_type": "stream",
          "name": "stderr",
          "text": [
            " 20%|██        | 1/5 [00:01<00:07,  1.90s/it]"
          ]
        },
        {
          "output_type": "stream",
          "name": "stdout",
          "text": [
            "Extracted frames to: phase1_frames/aldrift455_7199249280387927322\n"
          ]
        },
        {
          "output_type": "stream",
          "name": "stderr",
          "text": [
            "\r 40%|████      | 2/5 [00:03<00:05,  1.71s/it]"
          ]
        },
        {
          "output_type": "stream",
          "name": "stdout",
          "text": [
            "Extracted frames to: phase1_frames/adulto18_7273549708612635910\n"
          ]
        },
        {
          "output_type": "stream",
          "name": "stderr",
          "text": [
            "\r 60%|██████    | 3/5 [00:04<00:02,  1.47s/it]"
          ]
        },
        {
          "output_type": "stream",
          "name": "stdout",
          "text": [
            "Extracted frames to: phase1_frames/badboyschicago_7308839755289234734\n"
          ]
        },
        {
          "output_type": "stream",
          "name": "stderr",
          "text": [
            "\r 80%|████████  | 4/5 [00:05<00:01,  1.38s/it]"
          ]
        },
        {
          "output_type": "stream",
          "name": "stdout",
          "text": [
            "Extracted frames to: phase1_frames/andriaanastasiou_7081329958160715010\n"
          ]
        },
        {
          "output_type": "stream",
          "name": "stderr",
          "text": [
            "100%|██████████| 5/5 [00:08<00:00,  1.60s/it]\n"
          ]
        },
        {
          "output_type": "stream",
          "name": "stdout",
          "text": [
            "Extracted frames to: phase1_frames/am__.wt_7360945387911335176\n",
            "Found 10 videos for label: harmful\n"
          ]
        },
        {
          "output_type": "stream",
          "name": "stderr",
          "text": [
            " 20%|██        | 1/5 [00:00<00:02,  1.97it/s]"
          ]
        },
        {
          "output_type": "stream",
          "name": "stdout",
          "text": [
            "Extracted frames to: phase1_frames/akytube231206_6948939267137670402\n"
          ]
        },
        {
          "output_type": "stream",
          "name": "stderr",
          "text": [
            "\r 40%|████      | 2/5 [00:01<00:02,  1.10it/s]"
          ]
        },
        {
          "output_type": "stream",
          "name": "stdout",
          "text": [
            "Extracted frames to: phase1_frames/0huckleberry_6923105031466061061\n",
            "Extracted frames to: phase1_frames/_toscanelucas_7229361043674369307\n"
          ]
        },
        {
          "output_type": "stream",
          "name": "stderr",
          "text": [
            "\r 60%|██████    | 3/5 [00:09<00:07,  3.92s/it]"
          ]
        },
        {
          "output_type": "stream",
          "name": "stdout",
          "text": [
            "Extracted frames to: phase1_frames/alexei_pergande_7266857966836387115\n"
          ]
        },
        {
          "output_type": "stream",
          "name": "stderr",
          "text": [
            "100%|██████████| 5/5 [00:21<00:00,  4.24s/it]\n"
          ]
        },
        {
          "output_type": "stream",
          "name": "stdout",
          "text": [
            "Extracted frames to: phase1_frames/_itznate_7361499791978908934\n",
            "Found 4 videos for label: suicide\n"
          ]
        },
        {
          "output_type": "stream",
          "name": "stderr",
          "text": [
            " 25%|██▌       | 1/4 [00:01<00:03,  1.11s/it]"
          ]
        },
        {
          "output_type": "stream",
          "name": "stdout",
          "text": [
            "Extracted frames to: phase1_frames/_nctry_7115945153335954715\n"
          ]
        },
        {
          "output_type": "stream",
          "name": "stderr",
          "text": [
            "\r 50%|█████     | 2/4 [00:01<00:01,  1.25it/s]"
          ]
        },
        {
          "output_type": "stream",
          "name": "stdout",
          "text": [
            "Extracted frames to: phase1_frames/_.tokio._.hotel.__7345207721169390849\n"
          ]
        },
        {
          "output_type": "stream",
          "name": "stderr",
          "text": [
            "\r 75%|███████▌  | 3/4 [00:02<00:00,  1.06it/s]"
          ]
        },
        {
          "output_type": "stream",
          "name": "stdout",
          "text": [
            "Extracted frames to: phase1_frames/_im.all.alone__6865122133383597318\n"
          ]
        },
        {
          "output_type": "stream",
          "name": "stderr",
          "text": [
            "100%|██████████| 4/4 [00:04<00:00,  1.01s/it]"
          ]
        },
        {
          "output_type": "stream",
          "name": "stdout",
          "text": [
            "Extracted frames to: phase1_frames/_im.all.alone__6869027407265828101\n"
          ]
        },
        {
          "output_type": "stream",
          "name": "stderr",
          "text": [
            "\n"
          ]
        }
      ]
    },
    {
      "cell_type": "code",
      "source": [
        "base = MobileNetV2(include_top=False, input_shape=(224, 224, 3), weights=\"imagenet\")\n",
        "x = GlobalAveragePooling2D()(base.output)\n",
        "x = Dense(128, activation='relu')(x)\n",
        "output = Dense(4, activation='softmax')(x)\n",
        "\n",
        "model = Model(inputs=base.input, outputs=output)\n",
        "model.compile(optimizer=Adam(1e-4), loss='sparse_categorical_crossentropy', metrics=['accuracy'])\n",
        "\n",
        "model.fit(X_train, y_train, validation_data=(X_test, y_test), epochs=3, batch_size=8)"
      ],
      "metadata": {
        "colab": {
          "base_uri": "https://localhost:8080/"
        },
        "id": "mdSDv6J_nS37",
        "outputId": "beebad5e-8720-4f63-c5ae-4bee2bc925ed"
      },
      "execution_count": null,
      "outputs": [
        {
          "output_type": "stream",
          "name": "stdout",
          "text": [
            "Downloading data from https://storage.googleapis.com/tensorflow/keras-applications/mobilenet_v2/mobilenet_v2_weights_tf_dim_ordering_tf_kernels_1.0_224_no_top.h5\n",
            "\u001b[1m9406464/9406464\u001b[0m \u001b[32m━━━━━━━━━━━━━━━━━━━━\u001b[0m\u001b[37m\u001b[0m \u001b[1m0s\u001b[0m 0us/step\n",
            "Epoch 1/3\n",
            "\u001b[1m56/56\u001b[0m \u001b[32m━━━━━━━━━━━━━━━━━━━━\u001b[0m\u001b[37m\u001b[0m \u001b[1m161s\u001b[0m 2s/step - accuracy: 0.6386 - loss: 0.8913 - val_accuracy: 0.9196 - val_loss: 0.2360\n",
            "Epoch 2/3\n",
            "\u001b[1m42/56\u001b[0m \u001b[32m━━━━━━━━━━━━━━━\u001b[0m\u001b[37m━━━━━\u001b[0m \u001b[1m21s\u001b[0m 2s/step - accuracy: 0.9544 - loss: 0.1512"
          ]
        }
      ]
    },
    {
      "cell_type": "code",
      "source": [
        "# Use any video from the dataset\n",
        "test_video = glob(os.path.join(base_path, \"harmful\", \"*.mp4\"))[0]\n",
        "test_out = \"test_video_frames\"\n",
        "extract_frames_from_video(test_video, test_out, fps=1)\n",
        "\n",
        "predictions = []\n",
        "for fname in os.listdir(test_out):\n",
        "    path = os.path.join(test_out, fname)\n",
        "    img = cv2.imread(path)\n",
        "    if img is not None:\n",
        "        img = cv2.resize(img, (224, 224))\n",
        "        img = preprocess_input(img_to_array(img))\n",
        "        pred = model.predict(np.expand_dims(img, axis=0))[0]\n",
        "        predictions.append(pred)\n",
        "\n",
        "avg_softmax = np.mean(predictions, axis=0)\n",
        "confidence = round(float(np.max(avg_softmax)), 2)\n",
        "label_index = int(np.argmax(avg_softmax))\n",
        "reverse_map = {v: k for k, v in labels_map.items()}\n",
        "predicted_label = reverse_map[label_index]\n",
        "\n",
        "print(\"🎯 Prediction:\", predicted_label)\n",
        "print(\"✅ Confidence:\", confidence)"
      ],
      "metadata": {
        "id": "sxdVKg3enqYR"
      },
      "execution_count": null,
      "outputs": []
    },
    {
      "cell_type": "code",
      "source": [
        "row = {\n",
        "    \"video_id\": os.path.basename(test_video),\n",
        "    \"duration\": 1.5,\n",
        "    \"predicted_label\": predicted_label,\n",
        "    \"confidence\": confidence,\n",
        "    \"notes\": \"MobileNetV2 frame-based classification\"\n",
        "}\n",
        "\n",
        "df = pd.DataFrame([row])\n",
        "csv_path = \"phase1_predictions.csv\"\n",
        "if os.path.exists(csv_path):\n",
        "    df_old = pd.read_csv(csv_path)\n",
        "    df = pd.concat([df_old, df])\n",
        "df.to_csv(csv_path, index=False)\n",
        "print(\"📁 Saved to:\", csv_path)"
      ],
      "metadata": {
        "id": "4x3SFvd5pOLd"
      },
      "execution_count": null,
      "outputs": []
    },
    {
      "cell_type": "markdown",
      "source": [
        "# **Phase 2** Metadata & Notes-Based Classification with Classical ML\n"
      ],
      "metadata": {
        "id": "OdfoDBDLpl8Z"
      }
    },
    {
      "cell_type": "code",
      "source": [
        "import pandas as pd\n",
        "import os\n",
        "import random\n",
        "\n",
        "base_path = \"/content/tikharm_dataset/tikharm_dataset/train\"\n",
        "\n",
        "rows = []\n",
        "for label in os.listdir(base_path):\n",
        "    label_path = os.path.join(base_path, label)\n",
        "    if os.path.isdir(label_path):\n",
        "        for fname in os.listdir(label_path):\n",
        "            if fname.endswith(\".mp4\"):\n",
        "                rows.append({\n",
        "                    \"video_id\": fname,\n",
        "                    \"category\": label,\n",
        "                    \"duration\": round(random.uniform(3, 60), 2),\n",
        "                    \"notes\": f\"This is a synthetic {label} video.\"\n",
        "                })\n",
        "\n",
        "meta_df = pd.DataFrame(rows)\n",
        "meta_df.to_csv(\"phase2_metadata.csv\", index=False)\n",
        "meta_df.head()\n"
      ],
      "metadata": {
        "id": "yi_W3XU-pptT"
      },
      "execution_count": null,
      "outputs": []
    },
    {
      "cell_type": "code",
      "source": [
        "from sklearn.ensemble import RandomForestClassifier\n",
        "from sklearn.feature_extraction.text import TfidfVectorizer\n",
        "from sklearn.preprocessing import OneHotEncoder\n",
        "from sklearn.model_selection import train_test_split\n",
        "import numpy as np\n",
        "\n",
        "df = pd.read_csv(\"phase2_metadata.csv\")\n",
        "label_map = {\"safe\": 0, \"adult\": 1, \"harmful\": 2, \"suicide\": 3}\n",
        "df[\"label\"] = df[\"category\"].map(label_map)\n",
        "\n",
        "# One-hot encode the category\n",
        "encoder = OneHotEncoder()\n",
        "cat_encoded = encoder.fit_transform(df[[\"category\"]]).toarray()\n",
        "\n",
        "# TF-IDF vectorize the notes\n",
        "vectorizer = TfidfVectorizer()\n",
        "notes_encoded = vectorizer.fit_transform(df[\"notes\"]).toarray()\n",
        "\n",
        "# Combine all features\n",
        "X = np.hstack([df[[\"duration\"]].values, cat_encoded, notes_encoded])\n",
        "y = df[\"label\"].values\n",
        "\n",
        "# Train-test split\n",
        "X_train, X_test, y_train, y_test = train_test_split(X, y, test_size=0.2)\n",
        "model = RandomForestClassifier()\n",
        "model.fit(X_train, y_train)"
      ],
      "metadata": {
        "id": "Pa2fwbW1p0wg"
      },
      "execution_count": null,
      "outputs": []
    },
    {
      "cell_type": "code",
      "source": [
        "# Simulate new metadata row\n",
        "new_data = pd.DataFrame([{\n",
        "    \"video_id\": \"test_001.mp4\",\n",
        "    \"category\": \"harmful\",\n",
        "    \"duration\": 42.5,\n",
        "    \"notes\": \"This video may contain aggressive behavior and loud sounds.\"\n",
        "}])\n",
        "new_data[\"label\"] = new_data[\"category\"].map(label_map)\n",
        "\n",
        "cat_new = encoder.transform(new_data[[\"category\"]]).toarray()\n",
        "notes_new = vectorizer.transform(new_data[\"notes\"]).toarray()\n",
        "X_new = np.hstack([new_data[[\"duration\"]].values, cat_new, notes_new])\n",
        "\n",
        "# Predict\n",
        "pred_probs = model.predict_proba(X_new)[0]\n",
        "confidence = round(float(np.max(pred_probs)), 2)\n",
        "pred_label_idx = int(np.argmax(pred_probs))\n",
        "pred_label = {v: k for k, v in label_map.items()}[pred_label_idx]\n",
        "\n",
        "print(\"Predicted label:\", pred_label)\n",
        "print(\"Confidence:\", confidence)"
      ],
      "metadata": {
        "id": "RqX-4xCSp9Zc"
      },
      "execution_count": null,
      "outputs": []
    },
    {
      "cell_type": "markdown",
      "source": [
        "# **Phase 3** Modal-Level Fusion: Visual & Text (BERT)\n"
      ],
      "metadata": {
        "id": "JFA_MKbiqbOG"
      }
    },
    {
      "cell_type": "code",
      "source": [
        "# Use previously trained MobileNetV2 model from Phase 1\n",
        "# Reuse extracted frames\n",
        "\n",
        "predictions = []\n",
        "frame_dir = \"/content/phase1_frames\"\n",
        "for fname in os.listdir(frame_dir):\n",
        "    img = cv2.imread(os.path.join(frame_dir, fname))\n",
        "    if img is not None:\n",
        "        img = cv2.resize(img, (224, 224))\n",
        "        img = preprocess_input(img_to_array(img))\n",
        "        pred = model.predict(np.expand_dims(img, axis=0))[0]\n",
        "        predictions.append(pred)\n",
        "\n",
        "avg_softmax = np.mean(predictions, axis=0)\n",
        "confidence = round(np.max(avg_softmax), 2)\n",
        "label = reverse_map[np.argmax(avg_softmax)]"
      ],
      "metadata": {
        "id": "3Oz7Gq50rJ52"
      },
      "execution_count": null,
      "outputs": []
    },
    {
      "cell_type": "code",
      "source": [
        "!pip install transformers --quiet"
      ],
      "metadata": {
        "id": "6qFz7JiNrTXQ"
      },
      "execution_count": null,
      "outputs": []
    },
    {
      "cell_type": "code",
      "source": [
        "from transformers import BertTokenizer, BertModel\n",
        "import torch\n",
        "from sklearn.linear_model import LogisticRegression\n",
        "\n",
        "tokenizer = BertTokenizer.from_pretrained(\"bert-base-uncased\")\n",
        "bert = BertModel.from_pretrained(\"bert-base-uncased\")\n",
        "\n",
        "def get_bert_embedding(text):\n",
        "    tokens = tokenizer(text, return_tensors='pt', truncation=True, padding=True)\n",
        "    with torch.no_grad():\n",
        "        outputs = bert(**tokens)\n",
        "    return outputs.pooler_output[0].numpy()\n",
        "\n",
        "# Sample train\n",
        "X_text = [get_bert_embedding(\"this is a safe video\"),\n",
        "          get_bert_embedding(\"violence, fighting and abuse\")]\n",
        "y_text = [0, 1]\n",
        "\n",
        "text_model = LogisticRegression()\n",
        "text_model.fit(X_text, y_text)\n",
        "\n",
        "# Predict on a new note\n",
        "note = \"people screaming and hitting each other\"\n",
        "embedding = get_bert_embedding(note).reshape(1, -1)\n",
        "pred = text_model.predict_proba(embedding)[0]\n",
        "confidence = round(np.max(pred), 2)\n",
        "label = \"unsafe\" if pred[1] > 0.5 else \"safe\""
      ],
      "metadata": {
        "id": "_bGTRPUeraMn"
      },
      "execution_count": null,
      "outputs": []
    },
    {
      "cell_type": "code",
      "source": [
        "def save_to_csv(file, vid, label, confidence, notes):\n",
        "    df = pd.DataFrame([{\n",
        "        \"video_id\": vid,\n",
        "        \"predicted_label\": label,\n",
        "        \"confidence\": confidence,\n",
        "        \"notes\": notes\n",
        "    }])\n",
        "    if os.path.exists(file):\n",
        "        df_existing = pd.read_csv(file)\n",
        "        df = pd.concat([df_existing, df])\n",
        "    df.to_csv(file, index=False)\n",
        "\n",
        "save_to_csv(\"phase3_visual.csv\", \"vid_visual\", label, confidence, \"Object thrown, chaos\")\n",
        "save_to_csv(\"phase3_text.csv\", \"vid_text\", label, confidence, note)\n"
      ],
      "metadata": {
        "id": "MIjA6TGrreSC"
      },
      "execution_count": null,
      "outputs": []
    },
    {
      "cell_type": "markdown",
      "source": [
        "# **Phase 4** Sequence-Based Classification (CNN + LSTM)\n"
      ],
      "metadata": {
        "id": "oilwmNjsrvz3"
      }
    },
    {
      "cell_type": "code",
      "source": [
        "import os\n",
        "import cv2\n",
        "import numpy as np\n",
        "from tqdm import tqdm\n",
        "from sklearn.model_selection import train_test_split\n",
        "from tensorflow.keras.applications import MobileNetV2\n",
        "from tensorflow.keras.applications.mobilenet_v2 import preprocess_input\n",
        "from tensorflow.keras.preprocessing.image import img_to_array\n",
        "from tensorflow.keras.models import Sequential, Model\n",
        "from tensorflow.keras.layers import LSTM, Dense, TimeDistributed, GlobalAveragePooling2D\n",
        "from tensorflow.keras.optimizers import Adam"
      ],
      "metadata": {
        "id": "Os2VaS45rxV7"
      },
      "execution_count": null,
      "outputs": []
    },
    {
      "cell_type": "code",
      "source": [
        "def extract_frame_sequence(video_path, sequence_length=10):\n",
        "    cap = cv2.VideoCapture(video_path)\n",
        "    fps = int(cap.get(cv2.CAP_PROP_FPS)) or 25\n",
        "    frames = []\n",
        "    count = 0\n",
        "    while cap.isOpened() and len(frames) < sequence_length:\n",
        "        ret, frame = cap.read()\n",
        "        if not ret:\n",
        "            break\n",
        "        if count % (fps // 1) == 0:\n",
        "            img = cv2.resize(frame, (224, 224))\n",
        "            img = preprocess_input(img_to_array(img))\n",
        "            frames.append(img)\n",
        "        count += 1\n",
        "    cap.release()\n",
        "    return np.array(frames) if len(frames) == sequence_length else None"
      ],
      "metadata": {
        "id": "rGcAIQ29r4CK"
      },
      "execution_count": null,
      "outputs": []
    },
    {
      "cell_type": "code",
      "source": [
        "labels_map = {\"safe\": 0, \"adult\": 1, \"harmful\": 2, \"suicide\": 3}\n",
        "base_path = \"/content/tikharm_dataset/tikharm_dataset/train\"  # update as needed\n",
        "\n",
        "X_seqs, y_seqs = [], []\n",
        "\n",
        "for label_name, label in labels_map.items():\n",
        "    video_paths = os.listdir(os.path.join(base_path, label_name))\n",
        "    for fname in tqdm(video_paths[:5]):  # limit to 5 per class for demo\n",
        "        full_path = os.path.join(base_path, label_name, fname)\n",
        "        frames = extract_frame_sequence(full_path, sequence_length=10)\n",
        "        if frames is not None:\n",
        "            X_seqs.append(frames)\n",
        "            y_seqs.append(label)\n",
        "\n",
        "X_seqs = np.array(X_seqs)\n",
        "y_seqs = np.array(y_seqs)\n"
      ],
      "metadata": {
        "id": "kJJbVrpWr7CV"
      },
      "execution_count": null,
      "outputs": []
    },
    {
      "cell_type": "code",
      "source": [
        "cnn = MobileNetV2(include_top=False, input_shape=(224, 224, 3), weights=\"imagenet\")\n",
        "cnn.trainable = False\n",
        "\n",
        "feature_model = Sequential([\n",
        "    cnn,\n",
        "    GlobalAveragePooling2D()\n",
        "])"
      ],
      "metadata": {
        "id": "M9XPYMdosCxH"
      },
      "execution_count": null,
      "outputs": []
    },
    {
      "cell_type": "code",
      "source": [
        "X_feat = []\n",
        "for video in X_seqs:\n",
        "    seq_feats = []\n",
        "    for frame in video:\n",
        "        feat = feature_model.predict(np.expand_dims(frame, axis=0))[0]\n",
        "        seq_feats.append(feat)\n",
        "    X_feat.append(seq_feats)\n",
        "\n",
        "X_feat = np.array(X_feat)"
      ],
      "metadata": {
        "id": "zh4yYp_MsIET"
      },
      "execution_count": null,
      "outputs": []
    },
    {
      "cell_type": "code",
      "source": [
        "model = Sequential([\n",
        "    LSTM(64, input_shape=(10, X_feat.shape[2])),\n",
        "    Dense(4, activation='softmax')\n",
        "])\n",
        "model.compile(optimizer=Adam(1e-4), loss='sparse_categorical_crossentropy', metrics=['accuracy'])\n",
        "\n",
        "X_train, X_test, y_train, y_test = train_test_split(X_feat, y_seqs, test_size=0.2)\n",
        "model.fit(X_train, y_train, validation_data=(X_test, y_test), epochs=5, batch_size=2)"
      ],
      "metadata": {
        "id": "TQ4xB4dDsRYH"
      },
      "execution_count": null,
      "outputs": []
    },
    {
      "cell_type": "code",
      "source": [
        "test_video = \"/content/tikharm_dataset/tikharm_dataset/train/harmful/_paris_tisdale_7146660080317074734.mp4\"\n",
        "test_seq = extract_frame_sequence(test_video)\n",
        "\n",
        "seq_feat = []\n",
        "for frame in test_seq:\n",
        "    feat = feature_model.predict(np.expand_dims(frame, axis=0))[0]\n",
        "    seq_feat.append(feat)\n",
        "\n",
        "X_new = np.expand_dims(seq_feat, axis=0)\n",
        "pred = model.predict(X_new)[0]\n",
        "confidence = round(float(np.max(pred)), 2)\n",
        "label_index = int(np.argmax(pred))\n",
        "reverse_map = {v: k for k, v in labels_map.items()}\n",
        "predicted_label = reverse_map[label_index]\n",
        "\n",
        "print(\"Predicted:\", predicted_label)\n",
        "print(\"Confidence:\", confidence)"
      ],
      "metadata": {
        "id": "Y05D-OsHsTWD"
      },
      "execution_count": null,
      "outputs": []
    },
    {
      "cell_type": "markdown",
      "source": [
        "# **Phase 5** Spatio-Temporal Modeling using 3D CNN\n"
      ],
      "metadata": {
        "id": "x5sDMsr1tdd2"
      }
    },
    {
      "cell_type": "code",
      "source": [
        "import os\n",
        "import cv2\n",
        "import numpy as np\n",
        "import pandas as pd\n",
        "from tqdm import tqdm\n",
        "from tensorflow.keras.models import Sequential\n",
        "from tensorflow.keras.layers import Conv3D, MaxPooling3D, Flatten, Dense\n",
        "from tensorflow.keras.optimizers import Adam\n",
        "from sklearn.model_selection import train_test_split"
      ],
      "metadata": {
        "id": "GWa4YbKmszg6"
      },
      "execution_count": null,
      "outputs": []
    },
    {
      "cell_type": "code",
      "source": [
        "def extract_video_cube(video_path, num_frames=16, size=(112, 112)):\n",
        "    cap = cv2.VideoCapture(video_path)\n",
        "    frames = []\n",
        "    total_frames = int(cap.get(cv2.CAP_PROP_FRAME_COUNT))\n",
        "    step = max(total_frames // num_frames, 1)\n",
        "\n",
        "    for i in range(num_frames):\n",
        "        cap.set(cv2.CAP_PROP_POS_FRAMES, i * step)\n",
        "        ret, frame = cap.read()\n",
        "        if not ret:\n",
        "            break\n",
        "        frame = cv2.resize(frame, size)\n",
        "        frames.append(frame)\n",
        "\n",
        "    cap.release()\n",
        "\n",
        "    if len(frames) < num_frames:\n",
        "        return None\n",
        "    cube = np.stack(frames, axis=0)  # shape: (16, H, W, C)\n",
        "    return cube"
      ],
      "metadata": {
        "id": "1oZBzLaFtf9O"
      },
      "execution_count": null,
      "outputs": []
    },
    {
      "cell_type": "code",
      "source": [
        "base_path = \"/content/tikharm_dataset/tikharm_dataset/train\"\n",
        "labels_map = {\"safe\": 0, \"adult\": 1, \"harmful\": 2, \"suicide\": 3}\n",
        "\n",
        "X_3d, y_3d = [], []\n",
        "\n",
        "for label_name, label in labels_map.items():\n",
        "    for fname in tqdm(os.listdir(os.path.join(base_path, label_name))[:5]):\n",
        "        path = os.path.join(base_path, label_name, fname)\n",
        "        cube = extract_video_cube(path)\n",
        "        if cube is not None:\n",
        "            X_3d.append(cube)\n",
        "            y_3d.append(label)\n",
        "\n",
        "X_3d = np.array(X_3d)\n",
        "y_3d = np.array(y_3d)\n",
        "X_3d = X_3d / 255.0  # normalize pixel values"
      ],
      "metadata": {
        "id": "dEizJ8vItjrX"
      },
      "execution_count": null,
      "outputs": []
    },
    {
      "cell_type": "code",
      "source": [
        "model = Sequential([\n",
        "    Conv3D(32, (3, 3, 3), activation='relu', input_shape=(16, 112, 112, 3)),\n",
        "    MaxPooling3D((2, 2, 2)),\n",
        "    Conv3D(64, (3, 3, 3), activation='relu'),\n",
        "    MaxPooling3D((2, 2, 2)),\n",
        "    Flatten(),\n",
        "    Dense(128, activation='relu'),\n",
        "    Dense(4, activation='softmax')\n",
        "])\n",
        "\n",
        "model.compile(optimizer=Adam(1e-4), loss='sparse_categorical_crossentropy', metrics=['accuracy'])\n",
        "\n",
        "X_train, X_test, y_train, y_test = train_test_split(X_3d, y_3d, test_size=0.2)\n",
        "model.fit(X_train, y_train, validation_data=(X_test, y_test), epochs=5, batch_size=2)"
      ],
      "metadata": {
        "id": "gkIssHVKtpIX"
      },
      "execution_count": null,
      "outputs": []
    },
    {
      "cell_type": "code",
      "source": [
        "test_path = \"/content/tikharm_dataset/train/harmful/harmful_001.mp4\"\n",
        "cube = extract_video_cube(test_path)\n",
        "\n",
        "if cube is not None:\n",
        "    pred = model.predict(np.expand_dims(cube / 255.0, axis=0))[0]\n",
        "    confidence = round(float(np.max(pred)), 2)\n",
        "    label_index = np.argmax(pred)\n",
        "    reverse_map = {v: k for k, v in labels_map.items()}\n",
        "    predicted_label = reverse_map[label_index]\n",
        "\n",
        "    print(\"Predicted:\", predicted_label)\n",
        "    print(\"Confidence:\", confidence)\n",
        "else:\n",
        "    print(\"❌ Not enough frames in test video\")"
      ],
      "metadata": {
        "id": "0QIVd_zBuGsA"
      },
      "execution_count": null,
      "outputs": []
    },
    {
      "cell_type": "markdown",
      "source": [
        "# **Phase 6 **– Multimodal Fusion (Audio + Visual + Text)"
      ],
      "metadata": {
        "id": "ZCKbQLoP00t3"
      }
    },
    {
      "cell_type": "code",
      "source": [
        "# Mock predictions (normally read from phase3_*.csv)\n",
        "audio_pred = {\"label\": \"unsafe\", \"confidence\": 0.81}\n",
        "visual_pred = {\"label\": \"unsafe\", \"confidence\": 0.72}\n",
        "text_pred = {\"label\": \"safe\",   \"confidence\": 0.69}"
      ],
      "metadata": {
        "id": "2ZnY-ny7ukw0"
      },
      "execution_count": null,
      "outputs": []
    },
    {
      "source": [
        "from sklearn.linear_model import LogisticRegression\n",
        "import numpy as np\n",
        "\n",
        "# Mock predictions (normally read from phase3_*.csv)\n",
        "audio_pred = {\"label\": \"unsafe\", \"confidence\": 0.81}\n",
        "visual_pred = {\"label\": \"unsafe\", \"confidence\": 0.72}\n",
        "text_pred = {\"label\": \"safe\", \"confidence\": 0.69}\n",
        "\n",
        "# Safe = 0, Anything else = 1\n",
        "# Include samples for both safe and unsafe to have 2 classes\n",
        "X_fusion = np.array([\n",
        "    [audio_pred[\"confidence\"], visual_pred[\"confidence\"], text_pred[\"confidence\"]],  # unsafe example\n",
        "    [0.2, 0.3, 0.8]  # Example of a safe prediction - adjust values as needed\n",
        "])\n",
        "y_fusion = np.array([1, 0])  # 1 = unsafe, 0 = safe\n",
        "\n",
        "# Train fusion model\n",
        "fusion_model = LogisticRegression()\n",
        "fusion_model.fit(X_fusion, y_fusion)"
      ],
      "cell_type": "code",
      "metadata": {
        "id": "osE4I_n6v2u-"
      },
      "execution_count": null,
      "outputs": []
    },
    {
      "cell_type": "code",
      "source": [
        "# Simulate new inputs\n",
        "new_audio = 0.76\n",
        "new_visual = 0.84\n",
        "new_text = 0.70\n",
        "\n",
        "X_new = np.array([[new_audio, new_visual, new_text]])\n",
        "pred = fusion_model.predict_proba(X_new)[0]\n",
        "\n",
        "confidence = round(float(np.max(pred)), 2)\n",
        "final_label = \"unsafe\" if pred[1] > 0.5 else \"safe\"\n",
        "\n",
        "print(\"🔁 Final Fusion Label:\", final_label)\n",
        "print(\"🎯 Confidence:\", confidence)"
      ],
      "metadata": {
        "id": "3He4OXr_v6UX"
      },
      "execution_count": null,
      "outputs": []
    },
    {
      "cell_type": "markdown",
      "source": [
        "# **Phase 7** – Vision Transformer (ViT)"
      ],
      "metadata": {
        "id": "mwymULtY05or"
      }
    },
    {
      "cell_type": "code",
      "source": [
        "!pip install transformers --quiet"
      ],
      "metadata": {
        "id": "KWrABJcrwMZ-"
      },
      "execution_count": null,
      "outputs": []
    },
    {
      "cell_type": "code",
      "source": [
        "from transformers import ViTFeatureExtractor, ViTForImageClassification\n",
        "from PIL import Image\n",
        "import torch\n",
        "import numpy as np\n",
        "import os\n",
        "import pandas as pd"
      ],
      "metadata": {
        "id": "56ACNhWWwVpu"
      },
      "execution_count": null,
      "outputs": []
    },
    {
      "cell_type": "code",
      "source": [
        "feature_extractor = ViTFeatureExtractor.from_pretrained(\"google/vit-base-patch16-224\")\n",
        "model = ViTForImageClassification.from_pretrained(\"google/vit-base-patch16-224\")"
      ],
      "metadata": {
        "id": "6piiaEJ1wZNK"
      },
      "execution_count": null,
      "outputs": []
    },
    {
      "cell_type": "code",
      "source": [
        "import cv2\n",
        "\n",
        "def extract_test_frames(video_path, out_dir, fps=1):\n",
        "    os.makedirs(out_dir, exist_ok=True)\n",
        "    cap = cv2.VideoCapture(video_path)\n",
        "    frame_rate = int(cap.get(cv2.CAP_PROP_FPS))\n",
        "    count, saved = 0, 0\n",
        "    while cap.isOpened():\n",
        "        ret, frame = cap.read()\n",
        "        if not ret: break\n",
        "        if frame_rate > 0 and count % (frame_rate // fps) == 0:\n",
        "            fname = os.path.join(out_dir, f\"{saved}.jpg\")\n",
        "            cv2.imwrite(fname, frame)\n",
        "            saved += 1\n",
        "        count += 1\n",
        "    cap.release()\n",
        "    return out_dir\n"
      ],
      "metadata": {
        "id": "wQfw6StJwbI8"
      },
      "execution_count": null,
      "outputs": []
    },
    {
      "cell_type": "code",
      "source": [
        "video_path = \"/content/tikharm_dataset/tikharm_dataset/train/harmful/harmful_001.mp4\"\n",
        "frame_dir = \"phase7_frames\"\n",
        "extract_test_frames(video_path, frame_dir, fps=1)"
      ],
      "metadata": {
        "id": "OSFiogC8wfTB"
      },
      "execution_count": null,
      "outputs": []
    },
    {
      "cell_type": "code",
      "source": [
        "frame_preds = []\n",
        "\n",
        "for fname in sorted(os.listdir(frame_dir)):\n",
        "    img_path = os.path.join(frame_dir, fname)\n",
        "    image = Image.open(img_path).convert(\"RGB\")\n",
        "    inputs = feature_extractor(images=image, return_tensors=\"pt\")\n",
        "\n",
        "    with torch.no_grad():\n",
        "        outputs = model(**inputs)\n",
        "        logits = outputs.logits\n",
        "        probs = torch.softmax(logits, dim=1)[0].numpy()\n",
        "        frame_preds.append(probs)\n",
        "\n",
        "avg_probs = np.mean(frame_preds, axis=0)\n",
        "confidence = round(float(np.max(avg_probs)), 2)\n",
        "label_index = int(np.argmax(avg_probs))\n",
        "predicted_label = \"unsafe\" if label_index % 2 == 1 else \"safe\"  # Simulate binary safety\n",
        "\n",
        "print(\"🔮 ViT Predicted:\", predicted_label)\n",
        "print(\"🎯 Confidence:\", confidence)"
      ],
      "metadata": {
        "id": "LksZrH7qwk93"
      },
      "execution_count": null,
      "outputs": []
    }
  ]
}